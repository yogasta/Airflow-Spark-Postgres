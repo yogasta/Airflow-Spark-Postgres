{
 "cells": [
  {
   "cell_type": "code",
   "execution_count": 1,
   "id": "aa3d2efe-9447-4b55-b7a7-5e3b51762fe8",
   "metadata": {
    "tags": []
   },
   "outputs": [],
   "source": [
    "import json\n",
    "import uuid\n",
    "import os\n",
    "import json\n",
    "from dotenv import load_dotenv\n",
    "from pathlib import Path\n",
    "from kafka import KafkaProducer\n",
    "from faker import Faker\n",
    "from time import sleep"
   ]
  },
  {
   "cell_type": "code",
   "execution_count": 2,
   "id": "f8124ea4-9961-4141-8f61-4b3a31b35beb",
   "metadata": {
    "tags": []
   },
   "outputs": [
    {
     "data": {
      "text/plain": [
       "True"
      ]
     },
     "execution_count": 2,
     "metadata": {},
     "output_type": "execute_result"
    }
   ],
   "source": [
    "dotenv_path = Path('/resources/.env')\n",
    "load_dotenv(dotenv_path=dotenv_path)"
   ]
  },
  {
   "cell_type": "code",
   "execution_count": 3,
   "id": "984cf422-fabd-43a4-8e1e-9771303b556b",
   "metadata": {
    "tags": []
   },
   "outputs": [],
   "source": [
    "kafka_host = os.getenv('KAFKA_HOST')\n",
    "kafka_topic = os.getenv('KAFKA_TOPIC_NAME')\n",
    "kafka_topic_partition = os.getenv('KAFKA_TOPIC_NAME')+\"-1\""
   ]
  },
  {
   "cell_type": "code",
   "execution_count": 4,
   "id": "47d743be-7190-48e0-87c0-5f6ddedff5da",
   "metadata": {
    "tags": []
   },
   "outputs": [],
   "source": [
    "from kafka import KafkaConsumer\n",
    "\n",
    "# To consume latest messages and auto-commit offsets\n",
    "consumer = KafkaConsumer(kafka_topic_partition,\n",
    "                         group_id='dibimbing-group',\n",
    "                         bootstrap_servers=[f'{kafka_host}:9092'])"
   ]
  },
  {
   "cell_type": "code",
   "execution_count": null,
   "id": "47c9f9b3-a5b0-4bd5-93e7-dcf06e99b192",
   "metadata": {
    "tags": []
   },
   "outputs": [
    {
     "name": "stdout",
     "output_type": "stream",
     "text": [
      "test-topic-1:0:20: key=None value=b'{\"emp_id\": \"c5efdae4-72db-40f7-ae8c-ccb7bf5a22c9\", \"employee_name\": \"Kimberly Pham\", \"department\": \"Sales\", \"state\": \"CA\", \"salary\": 146511, \"age\": 48, \"bonus\": 98203, \"ts\": 1225230572}'\n",
      "test-topic-1:0:21: key=None value=b'{\"emp_id\": \"755617f1-8065-411b-b1ae-9d16b007bce3\", \"employee_name\": \"Michael Ford\", \"department\": \"IT\", \"state\": \"TX\", \"salary\": 29116, \"age\": 24, \"bonus\": 12622, \"ts\": 673018346}'\n",
      "test-topic-1:0:22: key=None value=b'{\"emp_id\": \"39a3b62c-e51a-411a-a85c-d6772742f8c2\", \"employee_name\": \"Tracey Gonzales\", \"department\": \"IT\", \"state\": \"NY\", \"salary\": 140884, \"age\": 43, \"bonus\": 23483, \"ts\": 49528875}'\n",
      "test-topic-1:0:23: key=None value=b'{\"emp_id\": \"b26a4621-5d08-4726-917e-595872e05c04\", \"employee_name\": \"Samantha Mccann MD\", \"department\": \"Sales\", \"state\": \"FL\", \"salary\": 58550, \"age\": 21, \"bonus\": 45857, \"ts\": 839726489}'\n",
      "test-topic-1:0:24: key=None value=b'{\"emp_id\": \"6bb9bd10-fe2b-4b7c-ba8f-c1f02c4595c7\", \"employee_name\": \"William Bailey\", \"department\": \"HR\", \"state\": \"IL\", \"salary\": 124072, \"age\": 47, \"bonus\": 86631, \"ts\": 1319309909}'\n",
      "test-topic-1:0:25: key=None value=b'{\"emp_id\": \"31363a6b-dee1-4a38-a78d-0782eae03d2e\", \"employee_name\": \"Steven Braun\", \"department\": \"HR\", \"state\": \"RJ\", \"salary\": 44631, \"age\": 46, \"bonus\": 30283, \"ts\": 821299646}'\n",
      "test-topic-1:0:26: key=None value=b'{\"emp_id\": \"671d8d2b-1406-4bea-8bb8-c73d7450ca65\", \"employee_name\": \"James Hart\", \"department\": \"Sales\", \"state\": \"RJ\", \"salary\": 105627, \"age\": 31, \"bonus\": 72375, \"ts\": 1579698626}'\n",
      "test-topic-1:0:27: key=None value=b'{\"emp_id\": \"b042df32-f7fa-4729-b9f2-8fdf227d737c\", \"employee_name\": \"David Tran\", \"department\": \"HR\", \"state\": \"CA\", \"salary\": 113362, \"age\": 57, \"bonus\": 37883, \"ts\": 1313452957}'\n",
      "test-topic-1:0:28: key=None value=b'{\"emp_id\": \"7a71cfdf-b68d-4dae-a1d8-c35c860d4476\", \"employee_name\": \"Tiffany Aguilar\", \"department\": \"Marketing\", \"state\": \"CA\", \"salary\": 57315, \"age\": 19, \"bonus\": 59685, \"ts\": 211833284}'\n",
      "test-topic-1:0:29: key=None value=b'{\"emp_id\": \"9ad4952a-47db-4f5f-8a60-e81fa8391c6b\", \"employee_name\": \"Jeffrey Sutton\", \"department\": \"HR\", \"state\": \"CA\", \"salary\": 33529, \"age\": 43, \"bonus\": 34462, \"ts\": 1552280149}'\n",
      "test-topic-1:0:30: key=None value=b'{\"emp_id\": \"082cb0cf-0bac-4ba5-9b93-b9775756e136\", \"employee_name\": \"Kenneth Reyes\", \"department\": \"IT\", \"state\": \"TX\", \"salary\": 117292, \"age\": 19, \"bonus\": 24460, \"ts\": 788018087}'\n",
      "test-topic-1:0:31: key=None value=b'{\"emp_id\": \"8752159a-e7b9-4339-9e36-b39a6d440dc8\", \"employee_name\": \"Ashley Strickland\", \"department\": \"Marketing\", \"state\": \"NY\", \"salary\": 51685, \"age\": 22, \"bonus\": 76072, \"ts\": 995318601}'\n",
      "test-topic-1:0:32: key=None value=b'{\"emp_id\": \"cb2c85da-4ca6-4e32-acb0-4486b354ad0b\", \"employee_name\": \"William Martin\", \"department\": \"IT\", \"state\": \"RJ\", \"salary\": 16446, \"age\": 31, \"bonus\": 20147, \"ts\": 149855225}'\n",
      "test-topic-1:0:33: key=None value=b'{\"emp_id\": \"e40a8d75-183b-4825-b01a-776b4d9f6f27\", \"employee_name\": \"Craig King\", \"department\": \"IT\", \"state\": \"FL\", \"salary\": 58468, \"age\": 27, \"bonus\": 39537, \"ts\": 1030967592}'\n",
      "test-topic-1:0:34: key=None value=b'{\"emp_id\": \"32a71fd4-e403-4e5c-b0f9-499074cebd0e\", \"employee_name\": \"Jessica Ramirez\", \"department\": \"HR\", \"state\": \"RJ\", \"salary\": 89997, \"age\": 36, \"bonus\": 8846, \"ts\": 625263328}'\n",
      "test-topic-1:0:35: key=None value=b'{\"emp_id\": \"d89c61f1-2864-49a2-906a-bfd8ce8c49ea\", \"employee_name\": \"Zachary Stewart\", \"department\": \"Marketing\", \"state\": \"IL\", \"salary\": 54833, \"age\": 50, \"bonus\": 71845, \"ts\": 847206278}'\n",
      "test-topic-1:0:36: key=None value=b'{\"emp_id\": \"06332778-7a7b-412f-86e1-6b96f4145600\", \"employee_name\": \"Edward Bowers\", \"department\": \"Marketing\", \"state\": \"TX\", \"salary\": 82123, \"age\": 40, \"bonus\": 57945, \"ts\": 1530095671}'\n",
      "test-topic-1:0:37: key=None value=b'{\"emp_id\": \"89353c79-b4d1-4882-b249-bc41d57318f7\", \"employee_name\": \"Nathan Torres\", \"department\": \"Marketing\", \"state\": \"TX\", \"salary\": 81272, \"age\": 37, \"bonus\": 73941, \"ts\": 1393591011}'\n",
      "test-topic-1:0:38: key=None value=b'{\"emp_id\": \"9f6317ea-c670-4740-8f5e-6a12717833e3\", \"employee_name\": \"Tina Hawkins\", \"department\": \"Marketing\", \"state\": \"TX\", \"salary\": 96709, \"age\": 21, \"bonus\": 72472, \"ts\": 120815171}'\n",
      "test-topic-1:0:39: key=None value=b'{\"emp_id\": \"59f2c626-59ef-4da3-a6c8-fe54d9ac10c1\", \"employee_name\": \"James Wilson\", \"department\": \"Sales\", \"state\": \"FL\", \"salary\": 119152, \"age\": 38, \"bonus\": 16617, \"ts\": 1393293298}'\n",
      "test-topic-1:0:40: key=None value=b'{\"emp_id\": \"1c4df03b-8494-4b18-9c14-faed136a513a\", \"employee_name\": \"Stephanie Hull\", \"department\": \"Sales\", \"state\": \"RJ\", \"salary\": 133666, \"age\": 59, \"bonus\": 81411, \"ts\": 764584677}'\n",
      "test-topic-1:0:41: key=None value=b'{\"emp_id\": \"a073dc4b-3fac-46fb-92ee-2e1c0e4f9602\", \"employee_name\": \"Daniel Rivera\", \"department\": \"Marketing\", \"state\": \"RJ\", \"salary\": 144534, \"age\": 24, \"bonus\": 50726, \"ts\": 628749739}'\n",
      "test-topic-1:0:42: key=None value=b'{\"emp_id\": \"e7a48c5e-8484-41ab-86e8-3b66eb967162\", \"employee_name\": \"Christine Pearson\", \"department\": \"Sales\", \"state\": \"TX\", \"salary\": 34009, \"age\": 19, \"bonus\": 5774, \"ts\": 1293744355}'\n",
      "test-topic-1:0:43: key=None value=b'{\"emp_id\": \"85dbce9b-8f57-453c-81b4-ae7dfa440696\", \"employee_name\": \"Emily Dominguez\", \"department\": \"IT\", \"state\": \"CA\", \"salary\": 122179, \"age\": 45, \"bonus\": 21926, \"ts\": 900928096}'\n",
      "test-topic-1:0:44: key=None value=b'{\"emp_id\": \"d0358f28-5b6a-414c-9c9a-0d257901f8cf\", \"employee_name\": \"Daniel Gibson\", \"department\": \"IT\", \"state\": \"CA\", \"salary\": 49007, \"age\": 25, \"bonus\": 86481, \"ts\": 45267604}'\n",
      "test-topic-1:0:45: key=None value=b'{\"emp_id\": \"1d6fc8b0-21c2-48e9-bbd2-2241e7804aa4\", \"employee_name\": \"Peter Turner\", \"department\": \"Marketing\", \"state\": \"FL\", \"salary\": 57343, \"age\": 31, \"bonus\": 47045, \"ts\": 1179333709}'\n",
      "test-topic-1:0:46: key=None value=b'{\"emp_id\": \"ed44e6f5-32a4-445b-8610-4ece2b20e0ce\", \"employee_name\": \"Christine Morgan\", \"department\": \"IT\", \"state\": \"TX\", \"salary\": 29533, \"age\": 47, \"bonus\": 96124, \"ts\": 722984090}'\n",
      "test-topic-1:0:47: key=None value=b'{\"emp_id\": \"9701f2f4-e501-4a08-ad24-945ba9692856\", \"employee_name\": \"Erin Malone\", \"department\": \"HR\", \"state\": \"CA\", \"salary\": 116126, \"age\": 37, \"bonus\": 24801, \"ts\": 451285715}'\n",
      "test-topic-1:0:48: key=None value=b'{\"emp_id\": \"572904c0-1289-4fe7-87a2-f72335e22e04\", \"employee_name\": \"Andre Cummings\", \"department\": \"HR\", \"state\": \"NY\", \"salary\": 114921, \"age\": 53, \"bonus\": 81475, \"ts\": 48860898}'\n",
      "test-topic-1:0:49: key=None value=b'{\"emp_id\": \"da3b2ef3-384d-4c31-ab01-59939b44f59e\", \"employee_name\": \"Scott Rodriguez\", \"department\": \"Marketing\", \"state\": \"TX\", \"salary\": 80490, \"age\": 60, \"bonus\": 59322, \"ts\": 387518648}'\n",
      "test-topic-1:0:50: key=None value=b'{\"emp_id\": \"2db7dfdd-f2db-4a6c-8caa-b462ad7168c5\", \"employee_name\": \"Patricia Munoz\", \"department\": \"HR\", \"state\": \"RJ\", \"salary\": 72394, \"age\": 53, \"bonus\": 23899, \"ts\": 1289538557}'\n",
      "test-topic-1:0:51: key=None value=b'{\"emp_id\": \"8c063de2-bc02-4c14-9f17-9f8bf8f5a22e\", \"employee_name\": \"Carol Santana\", \"department\": \"Sales\", \"state\": \"FL\", \"salary\": 56981, \"age\": 34, \"bonus\": 35402, \"ts\": 892269725}'\n",
      "test-topic-1:0:52: key=None value=b'{\"emp_id\": \"4762bbb1-9b28-4df1-b68a-4dae6fd34605\", \"employee_name\": \"Sarah Green\", \"department\": \"HR\", \"state\": \"FL\", \"salary\": 72646, \"age\": 24, \"bonus\": 26935, \"ts\": 158129398}'\n",
      "test-topic-1:0:53: key=None value=b'{\"emp_id\": \"bb7db92e-8a82-47e0-8c2b-27a0ae4d6ed6\", \"employee_name\": \"Justin Woodward\", \"department\": \"IT\", \"state\": \"IL\", \"salary\": 24652, \"age\": 32, \"bonus\": 97209, \"ts\": 1586897031}'\n",
      "test-topic-1:0:54: key=None value=b'{\"emp_id\": \"e7989c61-5c02-44f2-bbaa-af7bb73470a7\", \"employee_name\": \"Nancy Kelly\", \"department\": \"HR\", \"state\": \"CA\", \"salary\": 19726, \"age\": 59, \"bonus\": 60732, \"ts\": 1430430312}'\n",
      "test-topic-1:0:55: key=None value=b'{\"emp_id\": \"8b22f2cf-c1f1-4b96-9431-3b20d7b6d238\", \"employee_name\": \"Erika Stephens\", \"department\": \"HR\", \"state\": \"NY\", \"salary\": 42162, \"age\": 56, \"bonus\": 13404, \"ts\": 845577971}'\n",
      "test-topic-1:0:56: key=None value=b'{\"emp_id\": \"a4955c6f-b919-4242-beaf-c73b153b16ae\", \"employee_name\": \"Ray Griffin\", \"department\": \"IT\", \"state\": \"CA\", \"salary\": 141896, \"age\": 18, \"bonus\": 45194, \"ts\": 1450527732}'\n",
      "test-topic-1:0:57: key=None value=b'{\"emp_id\": \"911061d5-4eab-4e9d-8ee3-b724db0207bd\", \"employee_name\": \"Jerry Bennett\", \"department\": \"Sales\", \"state\": \"TX\", \"salary\": 35463, \"age\": 58, \"bonus\": 82256, \"ts\": 1280350148}'\n",
      "test-topic-1:0:58: key=None value=b'{\"emp_id\": \"9fabbd95-5c9d-4fd2-84e8-8e77081e81d1\", \"employee_name\": \"Ashley Howard\", \"department\": \"Sales\", \"state\": \"NY\", \"salary\": 117681, \"age\": 43, \"bonus\": 37006, \"ts\": 774975221}'\n",
      "test-topic-1:0:59: key=None value=b'{\"emp_id\": \"81385f01-fc1e-4e1c-988e-207a87b67797\", \"employee_name\": \"David Warren\", \"department\": \"HR\", \"state\": \"CA\", \"salary\": 143229, \"age\": 50, \"bonus\": 29601, \"ts\": 1164053470}'\n",
      "test-topic-1:0:60: key=None value=b'{\"emp_id\": \"987351ab-e952-4219-b068-c8444b672e58\", \"employee_name\": \"Melissa Baker\", \"department\": \"HR\", \"state\": \"NY\", \"salary\": 96528, \"age\": 29, \"bonus\": 92513, \"ts\": 1315914326}'\n",
      "test-topic-1:0:61: key=None value=b'{\"emp_id\": \"d32c1c95-1fa5-46f8-b6f1-e5b2276472a3\", \"employee_name\": \"Trevor Cox\", \"department\": \"IT\", \"state\": \"RJ\", \"salary\": 70502, \"age\": 46, \"bonus\": 35971, \"ts\": 11740949}'\n",
      "test-topic-1:0:62: key=None value=b'{\"emp_id\": \"24aa8478-417b-4cf0-bdd7-2ae042983b9e\", \"employee_name\": \"Katherine Griffin\", \"department\": \"IT\", \"state\": \"NY\", \"salary\": 105163, \"age\": 27, \"bonus\": 45138, \"ts\": 179400656}'\n",
      "test-topic-1:0:63: key=None value=b'{\"emp_id\": \"13dfe37c-2fde-4e50-9acc-f06ee198b28b\", \"employee_name\": \"Kerri Smith\", \"department\": \"HR\", \"state\": \"RJ\", \"salary\": 17177, \"age\": 48, \"bonus\": 85150, \"ts\": 1157327549}'\n",
      "test-topic-1:0:64: key=None value=b'{\"emp_id\": \"36b61658-9ea9-4b1c-9de4-d1dfece70623\", \"employee_name\": \"Preston Henderson\", \"department\": \"Sales\", \"state\": \"FL\", \"salary\": 58036, \"age\": 59, \"bonus\": 24116, \"ts\": 856386192}'\n",
      "test-topic-1:0:65: key=None value=b'{\"emp_id\": \"5a914473-d7a7-4f30-bb93-6930c0a6ac0f\", \"employee_name\": \"Ashley Franklin\", \"department\": \"IT\", \"state\": \"NY\", \"salary\": 32188, \"age\": 51, \"bonus\": 37231, \"ts\": 231696946}'\n",
      "test-topic-1:0:66: key=None value=b'{\"emp_id\": \"15713bf1-6cd3-41a4-a0ed-9fbe74c76f5e\", \"employee_name\": \"Jennifer Mendoza\", \"department\": \"IT\", \"state\": \"NY\", \"salary\": 42596, \"age\": 58, \"bonus\": 88111, \"ts\": 823670818}'\n",
      "test-topic-1:0:67: key=None value=b'{\"emp_id\": \"b9eae817-0c1c-4857-b6da-89abeed5dffa\", \"employee_name\": \"Justin Young\", \"department\": \"Marketing\", \"state\": \"IL\", \"salary\": 23260, \"age\": 37, \"bonus\": 27703, \"ts\": 498863682}'\n",
      "test-topic-1:0:68: key=None value=b'{\"emp_id\": \"db163430-9a24-4c41-9c50-1329fbce94ec\", \"employee_name\": \"Reginald Clark\", \"department\": \"Sales\", \"state\": \"TX\", \"salary\": 73861, \"age\": 60, \"bonus\": 48630, \"ts\": 11419491}'\n",
      "test-topic-1:0:69: key=None value=b'{\"emp_id\": \"1881dbae-e680-4e70-8bbc-2b1eee372625\", \"employee_name\": \"Margaret Villanueva\", \"department\": \"Sales\", \"state\": \"NY\", \"salary\": 70337, \"age\": 35, \"bonus\": 35442, \"ts\": 267592098}'\n",
      "test-topic-1:0:70: key=None value=b'{\"emp_id\": \"88d58d23-96fc-4628-8cf0-9a391d8bd3f4\", \"employee_name\": \"Robert Young\", \"department\": \"HR\", \"state\": \"RJ\", \"salary\": 141400, \"age\": 24, \"bonus\": 26740, \"ts\": 1227507085}'\n",
      "test-topic-1:0:71: key=None value=b'{\"emp_id\": \"7f03e79a-a381-4d34-9852-e3ac69ef4b36\", \"employee_name\": \"Keith Booth\", \"department\": \"Sales\", \"state\": \"RJ\", \"salary\": 63950, \"age\": 54, \"bonus\": 38951, \"ts\": 833360579}'\n",
      "test-topic-1:0:72: key=None value=b'{\"emp_id\": \"cd509d07-a634-441d-a3b6-5db319a9f2af\", \"employee_name\": \"Tracy Hill\", \"department\": \"IT\", \"state\": \"CA\", \"salary\": 21937, \"age\": 33, \"bonus\": 57623, \"ts\": 1563596821}'\n",
      "test-topic-1:0:73: key=None value=b'{\"emp_id\": \"9266e3db-3194-4a12-bd76-dd2455759d77\", \"employee_name\": \"Lauren Sullivan\", \"department\": \"IT\", \"state\": \"CA\", \"salary\": 128004, \"age\": 27, \"bonus\": 83183, \"ts\": 402349787}'\n",
      "test-topic-1:0:74: key=None value=b'{\"emp_id\": \"9e10a263-885f-4f61-b9d4-e87ff57a6587\", \"employee_name\": \"Melody Holland\", \"department\": \"HR\", \"state\": \"IL\", \"salary\": 65593, \"age\": 31, \"bonus\": 87964, \"ts\": 1320833439}'\n",
      "test-topic-1:0:75: key=None value=b'{\"emp_id\": \"eb5ca6f8-af98-46a7-80e4-b0e84c3911a4\", \"employee_name\": \"Daniel Kelly\", \"department\": \"IT\", \"state\": \"RJ\", \"salary\": 52448, \"age\": 46, \"bonus\": 72504, \"ts\": 1391591488}'\n",
      "test-topic-1:0:76: key=None value=b'{\"emp_id\": \"4b4188c9-dc72-481b-8b19-dd4eea67ff41\", \"employee_name\": \"Jason Moreno\", \"department\": \"HR\", \"state\": \"RJ\", \"salary\": 95767, \"age\": 54, \"bonus\": 61893, \"ts\": 1559074954}'\n",
      "test-topic-1:0:77: key=None value=b'{\"emp_id\": \"64534725-79b5-446e-9761-61ecc3385765\", \"employee_name\": \"Lawrence Taylor\", \"department\": \"HR\", \"state\": \"FL\", \"salary\": 12849, \"age\": 28, \"bonus\": 20530, \"ts\": 248971016}'\n",
      "test-topic-1:0:78: key=None value=b'{\"emp_id\": \"fa259600-2c89-4dc1-8932-c0c37201e144\", \"employee_name\": \"Heather Molina\", \"department\": \"Marketing\", \"state\": \"IL\", \"salary\": 58233, \"age\": 26, \"bonus\": 2413, \"ts\": 1253877033}'\n",
      "test-topic-1:0:79: key=None value=b'{\"emp_id\": \"98709b3d-1834-4677-a232-50a5c73ad8cd\", \"employee_name\": \"Wendy Smith\", \"department\": \"IT\", \"state\": \"NY\", \"salary\": 92119, \"age\": 45, \"bonus\": 34733, \"ts\": 405940889}'\n",
      "test-topic-1:0:80: key=None value=b'{\"emp_id\": \"66d8f7f9-20ea-4123-af13-77f6f66656ca\", \"employee_name\": \"Lynn Wolf\", \"department\": \"Marketing\", \"state\": \"NY\", \"salary\": 24682, \"age\": 20, \"bonus\": 30270, \"ts\": 1328090858}'\n",
      "test-topic-1:0:81: key=None value=b'{\"emp_id\": \"86376274-c396-4f00-a738-fb4f372cce69\", \"employee_name\": \"Rebekah Gutierrez\", \"department\": \"Marketing\", \"state\": \"RJ\", \"salary\": 112670, \"age\": 49, \"bonus\": 52467, \"ts\": 1623075697}'\n",
      "test-topic-1:0:82: key=None value=b'{\"emp_id\": \"3bc3f922-f705-4135-80c2-35763420de96\", \"employee_name\": \"Michelle Peterson\", \"department\": \"HR\", \"state\": \"CA\", \"salary\": 134145, \"age\": 52, \"bonus\": 4197, \"ts\": 235058783}'\n",
      "test-topic-1:0:83: key=None value=b'{\"emp_id\": \"c44f62f0-44af-45ba-a590-1f573ab510f8\", \"employee_name\": \"Sydney Garner\", \"department\": \"Marketing\", \"state\": \"NY\", \"salary\": 66539, \"age\": 51, \"bonus\": 47181, \"ts\": 32920041}'\n",
      "test-topic-1:0:84: key=None value=b'{\"emp_id\": \"43295c89-8e48-40cc-b2d5-328846714560\", \"employee_name\": \"Melissa Davis\", \"department\": \"HR\", \"state\": \"FL\", \"salary\": 45359, \"age\": 31, \"bonus\": 7687, \"ts\": 1439475726}'\n",
      "test-topic-1:0:85: key=None value=b'{\"emp_id\": \"aace8172-88ac-441d-9172-22438ec20bdd\", \"employee_name\": \"Nichole Lyons\", \"department\": \"HR\", \"state\": \"TX\", \"salary\": 103641, \"age\": 45, \"bonus\": 88428, \"ts\": 358379422}'\n",
      "test-topic-1:0:86: key=None value=b'{\"emp_id\": \"43db206e-f4dc-42dc-8fd6-c444905b1c23\", \"employee_name\": \"Joseph Moore\", \"department\": \"Sales\", \"state\": \"RJ\", \"salary\": 20192, \"age\": 59, \"bonus\": 10234, \"ts\": 94090772}'\n",
      "test-topic-1:0:87: key=None value=b'{\"emp_id\": \"88207338-53b3-4158-92b9-40c8dbf98cad\", \"employee_name\": \"Melissa Hall\", \"department\": \"IT\", \"state\": \"NY\", \"salary\": 87434, \"age\": 28, \"bonus\": 46074, \"ts\": 771249186}'\n",
      "test-topic-1:0:88: key=None value=b'{\"emp_id\": \"d6c2b972-7841-4394-97f9-c9f574fadbf0\", \"employee_name\": \"Sharon Jacobson\", \"department\": \"HR\", \"state\": \"RJ\", \"salary\": 20080, \"age\": 22, \"bonus\": 95733, \"ts\": 1619689953}'\n",
      "test-topic-1:0:89: key=None value=b'{\"emp_id\": \"6bfc3a07-9eac-4fd7-b473-d0d19d4ae90f\", \"employee_name\": \"James Aguilar\", \"department\": \"HR\", \"state\": \"NY\", \"salary\": 43523, \"age\": 56, \"bonus\": 33406, \"ts\": 1419038357}'\n",
      "test-topic-1:0:90: key=None value=b'{\"emp_id\": \"50c8645a-805c-4454-b7a2-e3a475f7b47f\", \"employee_name\": \"Misty Thomas\", \"department\": \"Marketing\", \"state\": \"RJ\", \"salary\": 16322, \"age\": 23, \"bonus\": 42989, \"ts\": 1036823949}'\n",
      "test-topic-1:0:91: key=None value=b'{\"emp_id\": \"5c6507b8-8742-4aa8-98b3-f8136b070058\", \"employee_name\": \"Kelly Hall\", \"department\": \"Marketing\", \"state\": \"FL\", \"salary\": 67295, \"age\": 38, \"bonus\": 35877, \"ts\": 226774815}'\n",
      "test-topic-1:0:92: key=None value=b'{\"emp_id\": \"e58c33a2-145c-48ef-a490-c0b00ff721e7\", \"employee_name\": \"Amy Lucas\", \"department\": \"HR\", \"state\": \"RJ\", \"salary\": 58057, \"age\": 33, \"bonus\": 23241, \"ts\": 1684397499}'\n",
      "test-topic-1:0:93: key=None value=b'{\"emp_id\": \"003147df-b0ea-4dcb-ad5b-40d0c2c55ea4\", \"employee_name\": \"Cheryl Love\", \"department\": \"Marketing\", \"state\": \"NY\", \"salary\": 134533, \"age\": 51, \"bonus\": 24115, \"ts\": 539030853}'\n",
      "test-topic-1:0:94: key=None value=b'{\"emp_id\": \"63e4abbc-ac21-4f19-baa3-b42970eb11c0\", \"employee_name\": \"Traci White\", \"department\": \"IT\", \"state\": \"NY\", \"salary\": 131490, \"age\": 32, \"bonus\": 28738, \"ts\": 1681158934}'\n",
      "test-topic-1:0:95: key=None value=b'{\"emp_id\": \"df47c457-b5f7-408a-9520-a1389b64336b\", \"employee_name\": \"Michael Parker\", \"department\": \"Marketing\", \"state\": \"NY\", \"salary\": 81537, \"age\": 51, \"bonus\": 47952, \"ts\": 729513207}'\n",
      "test-topic-1:0:96: key=None value=b'{\"emp_id\": \"f1eb3fb5-0f48-4447-be1f-8bb289e02fe3\", \"employee_name\": \"Sheila Green\", \"department\": \"HR\", \"state\": \"CA\", \"salary\": 115191, \"age\": 60, \"bonus\": 70921, \"ts\": 480122041}'\n",
      "test-topic-1:0:97: key=None value=b'{\"emp_id\": \"e9d7b66b-577a-4971-ba12-4ead8094c3f0\", \"employee_name\": \"Michele Anderson\", \"department\": \"HR\", \"state\": \"NY\", \"salary\": 59544, \"age\": 39, \"bonus\": 12335, \"ts\": 59126619}'\n",
      "test-topic-1:0:98: key=None value=b'{\"emp_id\": \"cd0103eb-4479-491b-81e0-870cc151d675\", \"employee_name\": \"Kayla Brown\", \"department\": \"Sales\", \"state\": \"IL\", \"salary\": 71407, \"age\": 20, \"bonus\": 63374, \"ts\": 296343422}'\n",
      "test-topic-1:0:99: key=None value=b'{\"emp_id\": \"1ce807ea-d273-4b95-9b30-e427648bcff7\", \"employee_name\": \"Emily Townsend\", \"department\": \"IT\", \"state\": \"TX\", \"salary\": 143263, \"age\": 29, \"bonus\": 8684, \"ts\": 934600371}'\n",
      "test-topic-1:0:100: key=None value=b'{\"emp_id\": \"11c1303f-ba62-4eb2-bc2a-e0066fa75c70\", \"employee_name\": \"Deborah Blackburn\", \"department\": \"IT\", \"state\": \"NY\", \"salary\": 81713, \"age\": 52, \"bonus\": 30449, \"ts\": 1531819008}'\n",
      "test-topic-1:0:101: key=None value=b'{\"emp_id\": \"9ecad6f1-3c6d-45f4-83c0-0da523e674fd\", \"employee_name\": \"Angela Mitchell\", \"department\": \"HR\", \"state\": \"CA\", \"salary\": 138699, \"age\": 49, \"bonus\": 27005, \"ts\": 601532557}'\n",
      "test-topic-1:0:102: key=None value=b'{\"emp_id\": \"0d0294c0-d197-43f9-818e-eca4a3013a20\", \"employee_name\": \"Heather Graves\", \"department\": \"Sales\", \"state\": \"RJ\", \"salary\": 89906, \"age\": 59, \"bonus\": 10796, \"ts\": 297483970}'\n",
      "test-topic-1:0:103: key=None value=b'{\"emp_id\": \"2632fc4f-248f-442d-8d42-0d487ccc72e5\", \"employee_name\": \"Jason Schmidt\", \"department\": \"Marketing\", \"state\": \"RJ\", \"salary\": 118989, \"age\": 51, \"bonus\": 23706, \"ts\": 1553207730}'\n",
      "test-topic-1:0:104: key=None value=b'{\"emp_id\": \"54b8abe9-6f24-41d6-a92f-9880500d5a40\", \"employee_name\": \"Michele Johnson\", \"department\": \"HR\", \"state\": \"FL\", \"salary\": 85347, \"age\": 26, \"bonus\": 40349, \"ts\": 1120218229}'\n",
      "test-topic-1:0:105: key=None value=b'{\"emp_id\": \"97d782de-1f43-49ee-b52c-adbaea5eab61\", \"employee_name\": \"Jennifer Davis\", \"department\": \"Sales\", \"state\": \"NY\", \"salary\": 103641, \"age\": 55, \"bonus\": 37345, \"ts\": 1685895149}'\n",
      "test-topic-1:0:106: key=None value=b'{\"emp_id\": \"bc79b2cf-b43d-41a8-8827-80537632503c\", \"employee_name\": \"Patricia Pineda\", \"department\": \"Marketing\", \"state\": \"NY\", \"salary\": 48766, \"age\": 27, \"bonus\": 73226, \"ts\": 1237140635}'\n",
      "test-topic-1:0:107: key=None value=b'{\"emp_id\": \"aca2bd6e-685d-4748-a396-6cd3f4e412a0\", \"employee_name\": \"Sandra Bauer\", \"department\": \"HR\", \"state\": \"FL\", \"salary\": 83469, \"age\": 33, \"bonus\": 30038, \"ts\": 757287061}'\n",
      "test-topic-1:0:108: key=None value=b'{\"emp_id\": \"2f625a7a-8ec0-41d2-a72c-79e7aa1894a6\", \"employee_name\": \"Lisa Wyatt\", \"department\": \"Marketing\", \"state\": \"RJ\", \"salary\": 62454, \"age\": 59, \"bonus\": 85602, \"ts\": 424439069}'\n",
      "test-topic-1:0:109: key=None value=b'{\"emp_id\": \"cb06cbe8-bb5f-4e81-bae9-93ce616aaa1f\", \"employee_name\": \"Michael Powell\", \"department\": \"IT\", \"state\": \"NY\", \"salary\": 80399, \"age\": 51, \"bonus\": 32259, \"ts\": 701212551}'\n",
      "test-topic-1:0:110: key=None value=b'{\"emp_id\": \"b9f861d2-33eb-48f3-abad-420f9eb20d39\", \"employee_name\": \"William Watkins\", \"department\": \"Marketing\", \"state\": \"IL\", \"salary\": 120142, \"age\": 36, \"bonus\": 22841, \"ts\": 421469524}'\n",
      "test-topic-1:0:111: key=None value=b'{\"emp_id\": \"c9b642a9-0f37-4c42-8b66-e5847a58699c\", \"employee_name\": \"Juan Yu\", \"department\": \"HR\", \"state\": \"IL\", \"salary\": 80730, \"age\": 20, \"bonus\": 10316, \"ts\": 1069713626}'\n",
      "test-topic-1:0:112: key=None value=b'{\"emp_id\": \"b0e3d1b5-7df7-4bbe-8e70-6da0c6508dd6\", \"employee_name\": \"Eric Stout\", \"department\": \"HR\", \"state\": \"TX\", \"salary\": 144978, \"age\": 19, \"bonus\": 65987, \"ts\": 240683147}'\n",
      "test-topic-1:0:113: key=None value=b'{\"emp_id\": \"76538342-d5e2-4ee9-8855-8d17aabf9a51\", \"employee_name\": \"Brandon Raymond\", \"department\": \"Marketing\", \"state\": \"NY\", \"salary\": 95450, \"age\": 31, \"bonus\": 48208, \"ts\": 129073464}'\n",
      "test-topic-1:0:114: key=None value=b'{\"emp_id\": \"7deb3c87-1d26-4e00-accb-99582dff0fe2\", \"employee_name\": \"Jerome Burns\", \"department\": \"HR\", \"state\": \"RJ\", \"salary\": 29924, \"age\": 49, \"bonus\": 68498, \"ts\": 1489673495}'\n",
      "test-topic-1:0:115: key=None value=b'{\"emp_id\": \"b8afb2cf-cf02-43b6-a77e-ff877cab1782\", \"employee_name\": \"James Moss\", \"department\": \"Sales\", \"state\": \"CA\", \"salary\": 98834, \"age\": 21, \"bonus\": 20064, \"ts\": 193002450}'\n",
      "test-topic-1:0:116: key=None value=b'{\"emp_id\": \"f8579ce2-f099-4977-a675-6f521ad1f7c1\", \"employee_name\": \"Paige Chandler MD\", \"department\": \"Sales\", \"state\": \"TX\", \"salary\": 32024, \"age\": 22, \"bonus\": 84922, \"ts\": 401100258}'\n",
      "test-topic-1:0:117: key=None value=b'{\"emp_id\": \"798d11d2-1f4a-4d09-b4c6-6bfbb044a54b\", \"employee_name\": \"Jennifer Lee\", \"department\": \"Sales\", \"state\": \"TX\", \"salary\": 92519, \"age\": 21, \"bonus\": 48751, \"ts\": 40895278}'\n",
      "test-topic-1:0:118: key=None value=b'{\"emp_id\": \"e8e789e8-292c-42c8-a95f-7351841554bd\", \"employee_name\": \"Gabrielle Taylor\", \"department\": \"HR\", \"state\": \"FL\", \"salary\": 24570, \"age\": 47, \"bonus\": 90453, \"ts\": 1332387853}'\n",
      "test-topic-1:0:119: key=None value=b'{\"emp_id\": \"1a7b2b6e-d1b7-4290-acbe-8be444be2d76\", \"employee_name\": \"Randy Bailey\", \"department\": \"HR\", \"state\": \"CA\", \"salary\": 114757, \"age\": 27, \"bonus\": 89573, \"ts\": 324123772}'\n",
      "test-topic-1:0:120: key=None value=b'{\"emp_id\": \"3852dd1c-047d-48d0-9ce9-16975a28ff56\", \"employee_name\": \"David Kennedy\", \"department\": \"HR\", \"state\": \"RJ\", \"salary\": 72752, \"age\": 43, \"bonus\": 80569, \"ts\": 107863874}'\n",
      "test-topic-1:0:121: key=None value=b'{\"emp_id\": \"79090ff6-3f6a-4e8c-8b7d-734814bf0c62\", \"employee_name\": \"Barry Williams\", \"department\": \"IT\", \"state\": \"TX\", \"salary\": 118584, \"age\": 35, \"bonus\": 66225, \"ts\": 921737967}'\n",
      "test-topic-1:0:122: key=None value=b'{\"emp_id\": \"9b284533-04a5-4c4a-b00d-149615214638\", \"employee_name\": \"Jennifer Cameron\", \"department\": \"IT\", \"state\": \"RJ\", \"salary\": 105285, \"age\": 22, \"bonus\": 11345, \"ts\": 1465322139}'\n",
      "test-topic-1:0:123: key=None value=b'{\"emp_id\": \"b5710b19-5592-4696-a28a-546e46e0b15d\", \"employee_name\": \"Mikayla Lopez\", \"department\": \"HR\", \"state\": \"TX\", \"salary\": 107245, \"age\": 57, \"bonus\": 94977, \"ts\": 782414023}'\n",
      "test-topic-1:0:124: key=None value=b'{\"emp_id\": \"f53ca2ab-796c-46a5-81e8-cf3af265a18f\", \"employee_name\": \"Christopher Houston\", \"department\": \"IT\", \"state\": \"TX\", \"salary\": 95979, \"age\": 40, \"bonus\": 98627, \"ts\": 1028827413}'\n",
      "test-topic-1:0:125: key=None value=b'{\"emp_id\": \"64a70db3-dc54-4414-b0a9-a45ec27daf13\", \"employee_name\": \"Joseph Hardy\", \"department\": \"Sales\", \"state\": \"RJ\", \"salary\": 53610, \"age\": 42, \"bonus\": 11467, \"ts\": 729266048}'\n",
      "test-topic-1:0:126: key=None value=b'{\"emp_id\": \"c55d19a3-12a1-4875-aad5-cb84ae1d62a2\", \"employee_name\": \"Jeremy Hahn\", \"department\": \"Sales\", \"state\": \"RJ\", \"salary\": 90175, \"age\": 46, \"bonus\": 71250, \"ts\": 741836525}'\n",
      "test-topic-1:0:127: key=None value=b'{\"emp_id\": \"3495b8f9-cc15-4087-9c2c-8681511a91cc\", \"employee_name\": \"Sonya Shaw\", \"department\": \"Marketing\", \"state\": \"IL\", \"salary\": 25419, \"age\": 55, \"bonus\": 21259, \"ts\": 362341018}'\n",
      "test-topic-1:0:128: key=None value=b'{\"emp_id\": \"80c2da7c-dd5b-46f0-b25b-ad6dc5a993b5\", \"employee_name\": \"Mark White\", \"department\": \"Sales\", \"state\": \"IL\", \"salary\": 80880, \"age\": 42, \"bonus\": 67097, \"ts\": 1450533152}'\n",
      "test-topic-1:0:129: key=None value=b'{\"emp_id\": \"1ed5ffad-e12c-4d9e-be7e-2fbe7f45b70a\", \"employee_name\": \"Joshua Lamb\", \"department\": \"Marketing\", \"state\": \"TX\", \"salary\": 26424, \"age\": 23, \"bonus\": 56394, \"ts\": 792326952}'\n",
      "test-topic-1:0:130: key=None value=b'{\"emp_id\": \"c022e978-6e07-428f-98a9-41b0e728e106\", \"employee_name\": \"Lauren Munoz\", \"department\": \"HR\", \"state\": \"TX\", \"salary\": 106510, \"age\": 43, \"bonus\": 74309, \"ts\": 574243656}'\n",
      "test-topic-1:0:131: key=None value=b'{\"emp_id\": \"6fafb38c-14e6-4aba-8793-ed5ae2fa937c\", \"employee_name\": \"James Brady\", \"department\": \"Sales\", \"state\": \"RJ\", \"salary\": 131270, \"age\": 35, \"bonus\": 31879, \"ts\": 453192683}'\n",
      "test-topic-1:0:132: key=None value=b'{\"emp_id\": \"d1f2b66b-f6a8-41e3-bd68-e0d1d326c98d\", \"employee_name\": \"William Williams\", \"department\": \"HR\", \"state\": \"FL\", \"salary\": 57352, \"age\": 47, \"bonus\": 24797, \"ts\": 1320520347}'\n",
      "test-topic-1:0:133: key=None value=b'{\"emp_id\": \"d2a0fc81-49b1-4680-b8c9-2b1ba8ddef47\", \"employee_name\": \"William Lawson\", \"department\": \"Sales\", \"state\": \"TX\", \"salary\": 119811, \"age\": 39, \"bonus\": 71183, \"ts\": 1449170407}'\n",
      "test-topic-1:0:134: key=None value=b'{\"emp_id\": \"2d4c45c4-a69f-49ad-91e0-957d80275050\", \"employee_name\": \"Haley Kelly\", \"department\": \"Sales\", \"state\": \"CA\", \"salary\": 117258, \"age\": 47, \"bonus\": 72227, \"ts\": 167181944}'\n",
      "test-topic-1:0:135: key=None value=b'{\"emp_id\": \"e6984e47-75bc-43a7-93f7-f6d9b3875979\", \"employee_name\": \"Thomas Pierce\", \"department\": \"Marketing\", \"state\": \"IL\", \"salary\": 106282, \"age\": 29, \"bonus\": 46595, \"ts\": 5673329}'\n",
      "test-topic-1:0:136: key=None value=b'{\"emp_id\": \"4bf7c158-6225-4371-805d-344ad5f333a1\", \"employee_name\": \"Ryan Davis\", \"department\": \"Marketing\", \"state\": \"NY\", \"salary\": 137077, \"age\": 22, \"bonus\": 66271, \"ts\": 661814410}'\n",
      "test-topic-1:0:137: key=None value=b'{\"emp_id\": \"b1b6d91a-2623-4b37-9bcd-30ee892dd53b\", \"employee_name\": \"Christopher Johnston\", \"department\": \"HR\", \"state\": \"FL\", \"salary\": 109548, \"age\": 47, \"bonus\": 37141, \"ts\": 1355846698}'\n",
      "test-topic-1:0:138: key=None value=b'{\"emp_id\": \"28c831e7-ad8b-4c1f-a799-e851fd675b94\", \"employee_name\": \"Sarah Ball\", \"department\": \"Marketing\", \"state\": \"TX\", \"salary\": 149300, \"age\": 55, \"bonus\": 72423, \"ts\": 507089016}'\n",
      "test-topic-1:0:139: key=None value=b'{\"emp_id\": \"9fbe03ee-014f-48d5-b1c6-7e52554203e0\", \"employee_name\": \"Kayla Herring\", \"department\": \"Sales\", \"state\": \"FL\", \"salary\": 111225, \"age\": 47, \"bonus\": 78979, \"ts\": 1067534560}'\n",
      "test-topic-1:0:140: key=None value=b'{\"emp_id\": \"218f463a-d61a-4a70-b4e4-6f8bad755513\", \"employee_name\": \"Nicole Buchanan\", \"department\": \"Marketing\", \"state\": \"CA\", \"salary\": 15215, \"age\": 19, \"bonus\": 5041, \"ts\": 1382525068}'\n",
      "test-topic-1:0:141: key=None value=b'{\"emp_id\": \"271c996e-2830-4d91-a0e3-bb5f09edfb0a\", \"employee_name\": \"Margaret Erickson\", \"department\": \"Marketing\", \"state\": \"FL\", \"salary\": 25692, \"age\": 31, \"bonus\": 12568, \"ts\": 7789042}'\n",
      "test-topic-1:0:142: key=None value=b'{\"emp_id\": \"ba6c634e-b756-47dc-9540-be0a6dd975a6\", \"employee_name\": \"Joshua Edwards\", \"department\": \"IT\", \"state\": \"FL\", \"salary\": 78061, \"age\": 60, \"bonus\": 11680, \"ts\": 1485054212}'\n",
      "test-topic-1:0:143: key=None value=b'{\"emp_id\": \"f3eee07e-e12a-4d57-b58f-5b8d46f28b14\", \"employee_name\": \"Stacey Roberson\", \"department\": \"IT\", \"state\": \"IL\", \"salary\": 149833, \"age\": 25, \"bonus\": 80447, \"ts\": 1542744366}'\n",
      "test-topic-1:0:144: key=None value=b'{\"emp_id\": \"3b55a2ae-b1d5-4573-9693-7e7d78afb6b9\", \"employee_name\": \"Seth Garner\", \"department\": \"Sales\", \"state\": \"TX\", \"salary\": 122036, \"age\": 38, \"bonus\": 48319, \"ts\": 864653212}'\n",
      "test-topic-1:0:145: key=None value=b'{\"emp_id\": \"570fe029-8ae5-489f-a3d9-e64bb048b58d\", \"employee_name\": \"Steven Sanchez\", \"department\": \"IT\", \"state\": \"CA\", \"salary\": 73426, \"age\": 32, \"bonus\": 651, \"ts\": 1628150281}'\n",
      "test-topic-1:0:146: key=None value=b'{\"emp_id\": \"9ae5903b-ff4a-4b6a-ae00-7d1fcad243f6\", \"employee_name\": \"Dominique Rivera\", \"department\": \"IT\", \"state\": \"NY\", \"salary\": 34865, \"age\": 42, \"bonus\": 53414, \"ts\": 1672873543}'\n",
      "test-topic-1:0:147: key=None value=b'{\"emp_id\": \"ab57fd1c-f695-4e02-be91-ec11e78321e2\", \"employee_name\": \"Brian Brown\", \"department\": \"HR\", \"state\": \"RJ\", \"salary\": 49216, \"age\": 42, \"bonus\": 12925, \"ts\": 1535706103}'\n",
      "test-topic-1:0:148: key=None value=b'{\"emp_id\": \"8234fa2d-5678-4ec2-b098-73c14e655dfa\", \"employee_name\": \"Randy Jordan\", \"department\": \"Marketing\", \"state\": \"TX\", \"salary\": 85980, \"age\": 25, \"bonus\": 94590, \"ts\": 1565861263}'\n",
      "test-topic-1:0:149: key=None value=b'{\"emp_id\": \"3aadcf5f-c577-4439-bf44-6c333d618a96\", \"employee_name\": \"Daniel Mckinney\", \"department\": \"Marketing\", \"state\": \"RJ\", \"salary\": 135648, \"age\": 30, \"bonus\": 68103, \"ts\": 214735558}'\n",
      "test-topic-1:0:150: key=None value=b'{\"emp_id\": \"2c69c34b-fccd-4541-89a2-9170a5d60f5e\", \"employee_name\": \"Lisa Johnson\", \"department\": \"HR\", \"state\": \"RJ\", \"salary\": 108574, \"age\": 60, \"bonus\": 18728, \"ts\": 1521373165}'\n",
      "test-topic-1:0:151: key=None value=b'{\"emp_id\": \"47ec14ce-9bc7-49e8-be03-81cbc3f6ffaf\", \"employee_name\": \"Heather Contreras\", \"department\": \"IT\", \"state\": \"CA\", \"salary\": 78753, \"age\": 48, \"bonus\": 83856, \"ts\": 485526432}'\n",
      "test-topic-1:0:152: key=None value=b'{\"emp_id\": \"7a315f25-34ae-4887-8d29-6eeb16773f90\", \"employee_name\": \"James Weaver\", \"department\": \"HR\", \"state\": \"IL\", \"salary\": 142748, \"age\": 28, \"bonus\": 60730, \"ts\": 1518469572}'\n",
      "test-topic-1:0:153: key=None value=b'{\"emp_id\": \"74671fd9-bc1c-4d77-afc5-3f0897a91ef6\", \"employee_name\": \"Paul Novak\", \"department\": \"Sales\", \"state\": \"FL\", \"salary\": 142953, \"age\": 51, \"bonus\": 30571, \"ts\": 1654147043}'\n",
      "test-topic-1:0:154: key=None value=b'{\"emp_id\": \"682f1f4d-b401-42a2-9061-35391a75c1b7\", \"employee_name\": \"Shawn Flores\", \"department\": \"HR\", \"state\": \"TX\", \"salary\": 85319, \"age\": 20, \"bonus\": 49850, \"ts\": 1670169038}'\n",
      "test-topic-1:0:155: key=None value=b'{\"emp_id\": \"2e351929-683d-4621-8f36-8985fd0ac078\", \"employee_name\": \"Kyle Terry\", \"department\": \"IT\", \"state\": \"CA\", \"salary\": 113966, \"age\": 56, \"bonus\": 31533, \"ts\": 455900744}'\n",
      "test-topic-1:0:156: key=None value=b'{\"emp_id\": \"1a828d93-8adb-4195-9b8d-d541d656f54a\", \"employee_name\": \"William Barnes\", \"department\": \"Sales\", \"state\": \"FL\", \"salary\": 30458, \"age\": 41, \"bonus\": 95133, \"ts\": 116927874}'\n",
      "test-topic-1:0:157: key=None value=b'{\"emp_id\": \"1fc6e48f-cf4d-472f-b262-748486b8839d\", \"employee_name\": \"Jamie Cummings\", \"department\": \"Sales\", \"state\": \"RJ\", \"salary\": 127619, \"age\": 39, \"bonus\": 93401, \"ts\": 305747059}'\n",
      "test-topic-1:0:158: key=None value=b'{\"emp_id\": \"13c4a35c-0494-4cc4-ab72-53dbc1a5e091\", \"employee_name\": \"William Floyd\", \"department\": \"Marketing\", \"state\": \"TX\", \"salary\": 75746, \"age\": 23, \"bonus\": 90643, \"ts\": 1077449107}'\n",
      "test-topic-1:0:159: key=None value=b'{\"emp_id\": \"5cc8d157-ddc6-4f60-a7e3-3ad9b3937c64\", \"employee_name\": \"Nancy Jones\", \"department\": \"Marketing\", \"state\": \"CA\", \"salary\": 91735, \"age\": 55, \"bonus\": 25081, \"ts\": 997468630}'\n",
      "test-topic-1:0:160: key=None value=b'{\"emp_id\": \"4637a7a7-04a9-4516-b655-08c1b2d0cd7a\", \"employee_name\": \"Haley Velazquez\", \"department\": \"HR\", \"state\": \"RJ\", \"salary\": 18022, \"age\": 52, \"bonus\": 61390, \"ts\": 1258098275}'\n",
      "test-topic-1:0:161: key=None value=b'{\"emp_id\": \"9737984a-b200-47a8-937a-87b2a87b0252\", \"employee_name\": \"Daniel Jones\", \"department\": \"HR\", \"state\": \"NY\", \"salary\": 31527, \"age\": 42, \"bonus\": 83557, \"ts\": 658485358}'\n",
      "test-topic-1:0:162: key=None value=b'{\"emp_id\": \"9b61f6da-6026-4ca7-8b1d-3dd0dca2c484\", \"employee_name\": \"Blake Macdonald\", \"department\": \"IT\", \"state\": \"IL\", \"salary\": 94277, \"age\": 60, \"bonus\": 5697, \"ts\": 770372166}'\n",
      "test-topic-1:0:163: key=None value=b'{\"emp_id\": \"8983faa4-a6e3-46fe-8db9-3fa7acd7db46\", \"employee_name\": \"Michael Lopez\", \"department\": \"IT\", \"state\": \"RJ\", \"salary\": 139136, \"age\": 25, \"bonus\": 28843, \"ts\": 235723202}'\n",
      "test-topic-1:0:164: key=None value=b'{\"emp_id\": \"473c0a8e-5c64-4ed8-be11-d706aae4f2af\", \"employee_name\": \"Amanda Chapman\", \"department\": \"HR\", \"state\": \"NY\", \"salary\": 114195, \"age\": 59, \"bonus\": 42446, \"ts\": 517041592}'\n",
      "test-topic-1:0:165: key=None value=b'{\"emp_id\": \"72f7d7bf-79f2-48ca-a973-9fb98e6063f9\", \"employee_name\": \"Lori Grimes\", \"department\": \"IT\", \"state\": \"FL\", \"salary\": 137050, \"age\": 41, \"bonus\": 49606, \"ts\": 1278419994}'\n",
      "test-topic-1:0:166: key=None value=b'{\"emp_id\": \"ece4f579-2c02-4ab5-a7ff-90fc34f0083b\", \"employee_name\": \"Ms. Tara Kaufman\", \"department\": \"Marketing\", \"state\": \"RJ\", \"salary\": 62155, \"age\": 20, \"bonus\": 13553, \"ts\": 1104107100}'\n",
      "test-topic-1:0:167: key=None value=b'{\"emp_id\": \"edd622b9-8fb1-4e10-b086-6e0ea10fa5ed\", \"employee_name\": \"Alicia Cook\", \"department\": \"Sales\", \"state\": \"RJ\", \"salary\": 43373, \"age\": 30, \"bonus\": 78869, \"ts\": 457023245}'\n",
      "test-topic-1:0:168: key=None value=b'{\"emp_id\": \"d1744764-bd6d-4415-9962-0c179f228a08\", \"employee_name\": \"Connie Perry\", \"department\": \"Marketing\", \"state\": \"FL\", \"salary\": 116586, \"age\": 55, \"bonus\": 89201, \"ts\": 189996772}'\n",
      "test-topic-1:0:169: key=None value=b'{\"emp_id\": \"0b6c058c-b35c-4536-88b6-4b40870efee1\", \"employee_name\": \"Adam Cox\", \"department\": \"Marketing\", \"state\": \"CA\", \"salary\": 39302, \"age\": 42, \"bonus\": 68799, \"ts\": 1663809909}'\n",
      "test-topic-1:0:170: key=None value=b'{\"emp_id\": \"078a8586-b499-4044-a420-7875eaf6cc5e\", \"employee_name\": \"Christine Johnson\", \"department\": \"Sales\", \"state\": \"IL\", \"salary\": 128434, \"age\": 48, \"bonus\": 57003, \"ts\": 913135604}'\n",
      "test-topic-1:0:171: key=None value=b'{\"emp_id\": \"16f4fdba-a980-42c7-8ceb-57b4fe635804\", \"employee_name\": \"Sean Newman\", \"department\": \"IT\", \"state\": \"RJ\", \"salary\": 87024, \"age\": 18, \"bonus\": 66639, \"ts\": 1452629841}'\n",
      "test-topic-1:0:172: key=None value=b'{\"emp_id\": \"33e0c651-1e03-48fb-ac00-dc44830920f0\", \"employee_name\": \"Danielle Thompson\", \"department\": \"Sales\", \"state\": \"FL\", \"salary\": 25287, \"age\": 41, \"bonus\": 47468, \"ts\": 667447862}'\n",
      "test-topic-1:0:173: key=None value=b'{\"emp_id\": \"9cf763e3-684a-467a-91f4-5d81e75d058e\", \"employee_name\": \"Shawn Farmer\", \"department\": \"HR\", \"state\": \"CA\", \"salary\": 19292, \"age\": 30, \"bonus\": 81064, \"ts\": 216276287}'\n",
      "test-topic-1:0:174: key=None value=b'{\"emp_id\": \"ab490b0f-4e6c-4ccb-a38d-4ec55663f559\", \"employee_name\": \"Shannon Sharp\", \"department\": \"IT\", \"state\": \"CA\", \"salary\": 32533, \"age\": 28, \"bonus\": 46936, \"ts\": 1564027474}'\n",
      "test-topic-1:0:175: key=None value=b'{\"emp_id\": \"66b165b3-9da3-4476-ae01-3bc7755c60b0\", \"employee_name\": \"Ralph George\", \"department\": \"IT\", \"state\": \"IL\", \"salary\": 124356, \"age\": 30, \"bonus\": 40295, \"ts\": 442369443}'\n",
      "test-topic-1:0:176: key=None value=b'{\"emp_id\": \"926666ab-e4b0-4cd4-bd16-88463d98cca7\", \"employee_name\": \"Frank Reyes\", \"department\": \"HR\", \"state\": \"IL\", \"salary\": 91578, \"age\": 42, \"bonus\": 67353, \"ts\": 975826116}'\n",
      "test-topic-1:0:177: key=None value=b'{\"emp_id\": \"9d3d0425-36ea-4cbb-800e-13577fc492ad\", \"employee_name\": \"Dr. John Knapp\", \"department\": \"Marketing\", \"state\": \"FL\", \"salary\": 145338, \"age\": 39, \"bonus\": 51714, \"ts\": 1478827107}'\n",
      "test-topic-1:0:178: key=None value=b'{\"emp_id\": \"78c51ce3-05fc-439e-93fe-63bdc4765c91\", \"employee_name\": \"Marcia Martin\", \"department\": \"IT\", \"state\": \"RJ\", \"salary\": 134096, \"age\": 48, \"bonus\": 51718, \"ts\": 438086588}'\n",
      "test-topic-1:0:179: key=None value=b'{\"emp_id\": \"766ee065-4704-4ce2-bcbc-d34cbe0069c9\", \"employee_name\": \"Hector Johnson\", \"department\": \"Marketing\", \"state\": \"FL\", \"salary\": 84552, \"age\": 29, \"bonus\": 76588, \"ts\": 285296296}'\n",
      "test-topic-1:0:180: key=None value=b'{\"emp_id\": \"b7b35cd9-bc66-4568-be61-b51062afb208\", \"employee_name\": \"Jackie Knight\", \"department\": \"IT\", \"state\": \"CA\", \"salary\": 107768, \"age\": 20, \"bonus\": 66004, \"ts\": 1420536681}'\n",
      "test-topic-1:0:181: key=None value=b'{\"emp_id\": \"16cb782b-2400-4d92-b0c3-f12b15028f34\", \"employee_name\": \"Elizabeth Thompson\", \"department\": \"Marketing\", \"state\": \"CA\", \"salary\": 96448, \"age\": 26, \"bonus\": 98983, \"ts\": 850307565}'\n",
      "test-topic-1:0:182: key=None value=b'{\"emp_id\": \"12f17faa-ed92-4733-81ed-2515e8e02413\", \"employee_name\": \"Alec Graves\", \"department\": \"Sales\", \"state\": \"RJ\", \"salary\": 27034, \"age\": 49, \"bonus\": 29125, \"ts\": 452977158}'\n",
      "test-topic-1:0:183: key=None value=b'{\"emp_id\": \"e23cc73e-076d-4226-b0bb-c96d2200ec5f\", \"employee_name\": \"Nicholas Jordan\", \"department\": \"Sales\", \"state\": \"IL\", \"salary\": 38151, \"age\": 49, \"bonus\": 81112, \"ts\": 1075968127}'\n",
      "test-topic-1:0:184: key=None value=b'{\"emp_id\": \"da4d9e51-ddd6-4d91-8e03-1eccca904386\", \"employee_name\": \"Peter Patel\", \"department\": \"IT\", \"state\": \"CA\", \"salary\": 135769, \"age\": 60, \"bonus\": 71629, \"ts\": 1609446640}'\n",
      "test-topic-1:0:185: key=None value=b'{\"emp_id\": \"d159941b-98dd-4caa-807f-a0e77cf72f6d\", \"employee_name\": \"Jonathan Mejia\", \"department\": \"HR\", \"state\": \"TX\", \"salary\": 118502, \"age\": 42, \"bonus\": 77225, \"ts\": 853078376}'\n",
      "test-topic-1:0:186: key=None value=b'{\"emp_id\": \"3f7e24e3-c9f2-4cff-a9f1-ac0110c3a6f5\", \"employee_name\": \"Miranda Norris\", \"department\": \"Sales\", \"state\": \"NY\", \"salary\": 32861, \"age\": 47, \"bonus\": 52090, \"ts\": 1337871702}'\n",
      "test-topic-1:0:187: key=None value=b'{\"emp_id\": \"c2902fa1-ee4b-400b-9020-f237afa6a36e\", \"employee_name\": \"Ryan Juarez\", \"department\": \"IT\", \"state\": \"NY\", \"salary\": 21589, \"age\": 45, \"bonus\": 42548, \"ts\": 1582032854}'\n",
      "test-topic-1:0:188: key=None value=b'{\"emp_id\": \"ee535fb2-09ee-44ba-91e5-0712e6ae9410\", \"employee_name\": \"Derrick Schwartz\", \"department\": \"Marketing\", \"state\": \"TX\", \"salary\": 16100, \"age\": 28, \"bonus\": 95163, \"ts\": 1131700467}'\n",
      "test-topic-1:0:189: key=None value=b'{\"emp_id\": \"04566676-638b-4739-a40e-d3478b07cf8c\", \"employee_name\": \"Margaret Stephens\", \"department\": \"Sales\", \"state\": \"FL\", \"salary\": 96222, \"age\": 27, \"bonus\": 12718, \"ts\": 445766041}'\n",
      "test-topic-1:0:190: key=None value=b'{\"emp_id\": \"73796283-c176-4c4f-a7f4-59af772bb9f7\", \"employee_name\": \"Matthew Sullivan\", \"department\": \"IT\", \"state\": \"RJ\", \"salary\": 70834, \"age\": 56, \"bonus\": 4935, \"ts\": 1609957561}'\n",
      "test-topic-1:0:191: key=None value=b'{\"emp_id\": \"53169b59-4ff7-4890-85a5-097de12a3257\", \"employee_name\": \"Samantha Green\", \"department\": \"IT\", \"state\": \"FL\", \"salary\": 128908, \"age\": 35, \"bonus\": 27930, \"ts\": 1519751815}'\n",
      "test-topic-1:0:192: key=None value=b'{\"emp_id\": \"ec83f9cd-1485-4709-ba54-9d6dcdb3cffb\", \"employee_name\": \"Diane Higgins\", \"department\": \"IT\", \"state\": \"CA\", \"salary\": 129903, \"age\": 22, \"bonus\": 30272, \"ts\": 119295176}'\n",
      "test-topic-1:0:193: key=None value=b'{\"emp_id\": \"acaf1142-6d4a-41e1-8f4e-2b9d0c533de1\", \"employee_name\": \"James Rogers\", \"department\": \"Sales\", \"state\": \"NY\", \"salary\": 32948, \"age\": 54, \"bonus\": 95642, \"ts\": 1579189530}'\n",
      "test-topic-1:0:194: key=None value=b'{\"emp_id\": \"375c0885-eab5-4631-8974-c044d246a697\", \"employee_name\": \"Jamie Mclaughlin\", \"department\": \"Sales\", \"state\": \"RJ\", \"salary\": 17584, \"age\": 38, \"bonus\": 30094, \"ts\": 1298995604}'\n",
      "test-topic-1:0:195: key=None value=b'{\"emp_id\": \"6caeea4a-3b2f-49eb-9b03-82cde0a28433\", \"employee_name\": \"Robert Velazquez\", \"department\": \"HR\", \"state\": \"FL\", \"salary\": 106617, \"age\": 60, \"bonus\": 32069, \"ts\": 708460784}'\n",
      "test-topic-1:0:196: key=None value=b'{\"emp_id\": \"172207f8-450a-4928-a45f-91f1566d4b01\", \"employee_name\": \"Barbara Martinez\", \"department\": \"IT\", \"state\": \"CA\", \"salary\": 34114, \"age\": 34, \"bonus\": 63492, \"ts\": 1569012480}'\n",
      "test-topic-1:0:197: key=None value=b'{\"emp_id\": \"0c3e454a-a34c-4159-ad17-9b480ae7ba0f\", \"employee_name\": \"Todd Payne\", \"department\": \"Sales\", \"state\": \"FL\", \"salary\": 113909, \"age\": 52, \"bonus\": 52035, \"ts\": 1621249321}'\n",
      "test-topic-1:0:198: key=None value=b'{\"emp_id\": \"64b35636-518b-412f-8322-97230ff71161\", \"employee_name\": \"Renee Sherman\", \"department\": \"Marketing\", \"state\": \"RJ\", \"salary\": 31471, \"age\": 33, \"bonus\": 18285, \"ts\": 1238274468}'\n",
      "test-topic-1:0:199: key=None value=b'{\"emp_id\": \"3db046be-7fd2-4ca0-bfc8-34d005f39276\", \"employee_name\": \"Kelly Coleman\", \"department\": \"IT\", \"state\": \"TX\", \"salary\": 123380, \"age\": 49, \"bonus\": 37032, \"ts\": 51871813}'\n",
      "test-topic-1:0:200: key=None value=b'{\"emp_id\": \"640a6554-a086-434f-8875-e778cd1a2bcb\", \"employee_name\": \"Thomas Wright\", \"department\": \"Sales\", \"state\": \"NY\", \"salary\": 98377, \"age\": 52, \"bonus\": 6765, \"ts\": 828106834}'\n",
      "test-topic-1:0:201: key=None value=b'{\"emp_id\": \"72250372-8947-4f80-aa7a-fe827a6d909b\", \"employee_name\": \"Mark Randall\", \"department\": \"Marketing\", \"state\": \"NY\", \"salary\": 111670, \"age\": 38, \"bonus\": 15785, \"ts\": 13330747}'\n",
      "test-topic-1:0:202: key=None value=b'{\"emp_id\": \"e8e4af23-1339-4262-a02d-8fb589eb9ec2\", \"employee_name\": \"Alexander Barton\", \"department\": \"Marketing\", \"state\": \"RJ\", \"salary\": 24758, \"age\": 47, \"bonus\": 65773, \"ts\": 1085553391}'\n",
      "test-topic-1:0:203: key=None value=b'{\"emp_id\": \"7ff19b97-a927-4df9-aba4-b2747f7d1cf4\", \"employee_name\": \"Curtis Thompson\", \"department\": \"IT\", \"state\": \"CA\", \"salary\": 87558, \"age\": 49, \"bonus\": 72253, \"ts\": 83985}'\n",
      "test-topic-1:0:204: key=None value=b'{\"emp_id\": \"2d520705-4fc0-4497-ade2-fc8501d83b35\", \"employee_name\": \"Pamela Serrano\", \"department\": \"HR\", \"state\": \"FL\", \"salary\": 106584, \"age\": 30, \"bonus\": 21398, \"ts\": 1415167296}'\n",
      "test-topic-1:0:205: key=None value=b'{\"emp_id\": \"4b720a78-a9eb-41e8-8d98-4875e3aa4644\", \"employee_name\": \"Michael Cummings\", \"department\": \"IT\", \"state\": \"IL\", \"salary\": 17878, \"age\": 19, \"bonus\": 46494, \"ts\": 1276997228}'\n",
      "test-topic-1:0:206: key=None value=b'{\"emp_id\": \"50f570c6-a69f-452a-af76-738873f026ed\", \"employee_name\": \"Andrea West\", \"department\": \"Sales\", \"state\": \"CA\", \"salary\": 42861, \"age\": 21, \"bonus\": 59767, \"ts\": 980115325}'\n",
      "test-topic-1:0:207: key=None value=b'{\"emp_id\": \"ea9e1a85-5ad9-4b74-9e25-c36b94dbc890\", \"employee_name\": \"Jennifer Martin\", \"department\": \"HR\", \"state\": \"RJ\", \"salary\": 143538, \"age\": 42, \"bonus\": 35368, \"ts\": 1485272464}'\n",
      "test-topic-1:0:208: key=None value=b'{\"emp_id\": \"4bd8b629-83f5-46d7-b9d1-4cb5b367d699\", \"employee_name\": \"David Moore\", \"department\": \"IT\", \"state\": \"FL\", \"salary\": 123835, \"age\": 56, \"bonus\": 42122, \"ts\": 1540696562}'\n",
      "test-topic-1:0:209: key=None value=b'{\"emp_id\": \"9a4242b9-1482-4867-954a-895549e1e001\", \"employee_name\": \"Elaine Davis\", \"department\": \"Sales\", \"state\": \"RJ\", \"salary\": 148896, \"age\": 39, \"bonus\": 49426, \"ts\": 56826491}'\n",
      "test-topic-1:0:210: key=None value=b'{\"emp_id\": \"d65e772b-e2ff-40f2-9ff7-c63727211d93\", \"employee_name\": \"Ana Alexander\", \"department\": \"IT\", \"state\": \"CA\", \"salary\": 63645, \"age\": 43, \"bonus\": 12855, \"ts\": 728239270}'\n",
      "test-topic-1:0:211: key=None value=b'{\"emp_id\": \"b0b4211f-a5a8-4f22-a1ae-5aeb462e013e\", \"employee_name\": \"Ryan Taylor\", \"department\": \"IT\", \"state\": \"IL\", \"salary\": 136983, \"age\": 40, \"bonus\": 82490, \"ts\": 569485639}'\n"
     ]
    }
   ],
   "source": [
    "for message in consumer:\n",
    "    print (\"%s:%d:%d: key=%s value=%s\" % (message.topic, message.partition,\n",
    "                                          message.offset, message.key,\n",
    "                                          message.value))"
   ]
  },
  {
   "cell_type": "code",
   "execution_count": null,
   "id": "3c285f74-9601-462e-bd4c-bbb5cfb59126",
   "metadata": {
    "tags": []
   },
   "outputs": [],
   "source": [
    "from kafka import TopicPartition\n",
    "\n",
    "consumer = KafkaConsumer(group_id='dibimbing-group',\n",
    "                         bootstrap_servers=[f'{kafka_host}:9092'],\n",
    "                         value_deserializer=lambda m: json.loads(m.decode('ascii')),\n",
    "                         auto_offset_reset='earliest',\n",
    "                         enable_auto_commit=False\n",
    "                        )\n",
    "consumer.assign([TopicPartition(kafka_topic_partition, 2)])"
   ]
  },
  {
   "cell_type": "code",
   "execution_count": null,
   "id": "4b0a6eba-f188-4d4f-ab12-f63685faf4f3",
   "metadata": {
    "tags": []
   },
   "outputs": [],
   "source": [
    "for message in consumer:\n",
    "    print (\"%s:%d:%d: key=%s value=%s\" % (message.topic, message.partition,\n",
    "                                          message.offset, message.key,\n",
    "                                          message.value))"
   ]
  },
  {
   "cell_type": "code",
   "execution_count": null,
   "id": "bb81528d-ed9f-48e2-9ce3-f0d27f8a26d0",
   "metadata": {
    "tags": []
   },
   "outputs": [],
   "source": [
    "consumer.seek_to_beginning()"
   ]
  },
  {
   "cell_type": "code",
   "execution_count": null,
   "id": "c2794306-ef7a-416b-8b70-22395b9ed83b",
   "metadata": {
    "tags": []
   },
   "outputs": [],
   "source": [
    "for message in consumer:\n",
    "    print (\"%s:%d:%d: key=%s value=%s\" % (message.topic, message.partition,\n",
    "                                          message.offset, message.key,\n",
    "                                          message.value))"
   ]
  }
 ],
 "metadata": {
  "kernelspec": {
   "display_name": "Python 3 (ipykernel)",
   "language": "python",
   "name": "python3"
  },
  "language_info": {
   "codemirror_mode": {
    "name": "ipython",
    "version": 3
   },
   "file_extension": ".py",
   "mimetype": "text/x-python",
   "name": "python",
   "nbconvert_exporter": "python",
   "pygments_lexer": "ipython3",
   "version": "3.10.10"
  }
 },
 "nbformat": 4,
 "nbformat_minor": 5
}
